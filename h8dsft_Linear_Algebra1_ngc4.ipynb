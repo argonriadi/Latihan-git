{
  "cells": [
    {
      "cell_type": "code",
      "execution_count": 49,
      "metadata": {
        "id": "piCZx2wla-df"
      },
      "outputs": [],
      "source": [
        "import numpy as np\n",
        "import pandas as pd\n",
        "import matplotlib.pyplot as plt"
      ]
    },
    {
      "cell_type": "code",
      "execution_count": 47,
      "metadata": {
        "id": "GBGdwSg-g6Z7"
      },
      "outputs": [],
      "source": [
        "def plot_vector2d(vector2d, origin=[0, 0], **options):\n",
        "    return plt.arrow(origin[0], origin[1], vector2d[0], vector2d[1],\n",
        "              head_width=0.2, head_length=0.3, length_includes_head=True,\n",
        "              **options)"
      ]
    },
    {
      "cell_type": "code",
      "execution_count": 24,
      "metadata": {
        "colab": {
          "base_uri": "https://localhost:8080/"
        },
        "id": "U9XoQft_bBvn",
        "outputId": "ac514fa4-3ddb-405b-a72e-39650e01c1d3"
      },
      "outputs": [
        {
          "data": {
            "text/plain": [
              "array([[17],\n",
              "       [22],\n",
              "       [19]])"
            ]
          },
          "execution_count": 24,
          "metadata": {},
          "output_type": "execute_result"
        }
      ],
      "source": [
        "a1 = np.array ([[17],[22],[19]])\n",
        "a1"
      ]
    },
    {
      "cell_type": "code",
      "execution_count": 5,
      "metadata": {
        "colab": {
          "base_uri": "https://localhost:8080/"
        },
        "id": "SrzHmbbud8qQ",
        "outputId": "39325bd8-612a-4b66-988b-51a598d332e9"
      },
      "outputs": [
        {
          "data": {
            "text/plain": [
              "33.67491648096547"
            ]
          },
          "execution_count": 5,
          "metadata": {},
          "output_type": "execute_result"
        }
      ],
      "source": [
        "v = np.array ([17,22,19])\n",
        "np.linalg.norm(v)"
      ]
    },
    {
      "cell_type": "code",
      "execution_count": 39,
      "metadata": {
        "id": "urD5AMkAeER1"
      },
      "outputs": [],
      "source": [
        "a = np.array([[[17]],[[22]],[[19]]])\n",
        "b = np.array([[[10]],[[20]],[[11]]])\n",
        "c = np.array([[[5]],[[12]],[[9]]])"
      ]
    },
    {
      "cell_type": "code",
      "execution_count": 42,
      "metadata": {
        "colab": {
          "base_uri": "https://localhost:8080/"
        },
        "id": "pWMOc02GeaXm",
        "outputId": "3e33028b-dd75-43c3-8e62-46b3a4b5d3fa"
      },
      "outputs": [
        {
          "name": "stdout",
          "output_type": "stream",
          "text": [
            "[[[27]]\n",
            "\n",
            " [[42]]\n",
            "\n",
            " [[30]]]\n",
            "[[[5]]\n",
            "\n",
            " [[8]]\n",
            "\n",
            " [[2]]]\n"
          ]
        }
      ],
      "source": [
        "print (a+b)\n",
        "print (b-c)"
      ]
    },
    {
      "cell_type": "code",
      "execution_count": 41,
      "metadata": {
        "colab": {
          "base_uri": "https://localhost:8080/"
        },
        "id": "Cm9vCaylefIZ",
        "outputId": "ee52cb93-e905-4a77-e2e8-975bfe6b8b4f"
      },
      "outputs": [
        {
          "data": {
            "text/plain": [
              "array([[[5]],\n",
              "\n",
              "       [[8]],\n",
              "\n",
              "       [[2]]])"
            ]
          },
          "execution_count": 41,
          "metadata": {},
          "output_type": "execute_result"
        }
      ],
      "source": [
        "b-c"
      ]
    },
    {
      "cell_type": "code",
      "execution_count": 40,
      "metadata": {
        "colab": {
          "base_uri": "https://localhost:8080/"
        },
        "id": "a47bYiY0fGdr",
        "outputId": "bb65bdb0-b5b3-40cf-be6a-27feb1f00ff4"
      },
      "outputs": [
        {
          "data": {
            "text/plain": [
              "array([[[[ 85],\n",
              "         [204],\n",
              "         [153]]],\n",
              "\n",
              "\n",
              "       [[[110],\n",
              "         [264],\n",
              "         [198]]],\n",
              "\n",
              "\n",
              "       [[[ 95],\n",
              "         [228],\n",
              "         [171]]]])"
            ]
          },
          "execution_count": 40,
          "metadata": {},
          "output_type": "execute_result"
        }
      ],
      "source": [
        "a.dot(c)"
      ]
    },
    {
      "cell_type": "code",
      "execution_count": 43,
      "metadata": {
        "colab": {
          "base_uri": "https://localhost:8080/"
        },
        "id": "-VeYt_m0nEXQ",
        "outputId": "78a09436-5a53-419b-fcac-cd9c58b80098"
      },
      "outputs": [
        {
          "data": {
            "text/plain": [
              "array([[[ 85]],\n",
              "\n",
              "       [[264]],\n",
              "\n",
              "       [[171]]])"
            ]
          },
          "execution_count": 43,
          "metadata": {},
          "output_type": "execute_result"
        }
      ],
      "source": [
        "a@c"
      ]
    },
    {
      "cell_type": "code",
      "execution_count": 44,
      "metadata": {
        "colab": {
          "base_uri": "https://localhost:8080/"
        },
        "id": "pCnJsZ5IfH_M",
        "outputId": "1083aaec-b062-4fef-b961-a0d4504eb7b4"
      },
      "outputs": [
        {
          "data": {
            "text/plain": [
              "array([[[170]],\n",
              "\n",
              "       [[440]],\n",
              "\n",
              "       [[209]]])"
            ]
          },
          "execution_count": 44,
          "metadata": {},
          "output_type": "execute_result"
        }
      ],
      "source": [
        "a*b"
      ]
    },
    {
      "cell_type": "code",
      "execution_count": 45,
      "metadata": {
        "colab": {
          "base_uri": "https://localhost:8080/"
        },
        "id": "B0B0nYoXfJfP",
        "outputId": "d332bf73-043f-4637-c529-3288e00f2538"
      },
      "outputs": [
        {
          "data": {
            "text/plain": [
              "33.67491648096547"
            ]
          },
          "execution_count": 45,
          "metadata": {},
          "output_type": "execute_result"
        }
      ],
      "source": [
        "np.linalg.norm(a)"
      ]
    },
    {
      "cell_type": "code",
      "execution_count": 46,
      "metadata": {
        "colab": {
          "base_uri": "https://localhost:8080/"
        },
        "id": "7fpicYO5fK4g",
        "outputId": "8d1522e1-4b1d-4fb6-df34-0aca99dba08a"
      },
      "outputs": [
        {
          "data": {
            "text/plain": [
              "array([[[0.20258001]],\n",
              "\n",
              "       [[0.52432474]],\n",
              "\n",
              "       [[0.24905425]]])"
            ]
          },
          "execution_count": 46,
          "metadata": {},
          "output_type": "execute_result"
        }
      ],
      "source": [
        "cos_theta = a@b / (np.linalg.norm(a)*np.linalg.norm(b))\n",
        "cos_theta"
      ]
    },
    {
      "cell_type": "code",
      "execution_count": 55,
      "metadata": {
        "colab": {
          "base_uri": "https://localhost:8080/",
          "height": 269
        },
        "id": "0VUo_O4nfcFV",
        "outputId": "50586f6b-5aee-4303-ee0b-ef29a1ba442d"
      },
      "outputs": [
        {
          "data": {
            "image/png": "[encoded data removed]",
            "text/plain": [
              "<Figure size 432x288 with 1 Axes>"
            ]
          },
          "metadata": {
            "needs_background": "light"
          },
          "output_type": "display_data"
        }
      ],
      "source": [
        "u = np.array([2,5])\n",
        "v = np.array([3,1])\n",
        "\n",
        "plot_vector2d(u, color='r')\n",
        "plot_vector2d(v, origin=u, color='g')\n",
        "plot_vector2d(u+v, color='b')\n",
        "\n",
        "\n",
        "plt.axis([0, 10, 0, 10])  # rentang axis x dan y\n",
        "plt.axvline(0)              # garis y = 0\n",
        "plt.axhline(0)              # garis x = 0\n",
        "plt.grid()\n",
        "plt.show()"
      ]
    },
    {
      "cell_type": "code",
      "execution_count": null,
      "metadata": {
        "id": "zeK4VwolgySC"
      },
      "outputs": [],
      "source": []
    }
  ],
  "metadata": {
    "colab": {
      "provenance": []
    },
    "kernelspec": {
      "display_name": "base",
      "language": "python",
      "name": "python3"
    },
    "language_info": {
      "name": "python",
      "version": "3.9.13"
    },
    "vscode": {
      "interpreter": {
        "hash": "40d3a090f54c6569ab1632332b64b2c03c39dcf918b08424e98f38b5ae0af88f"
      }
    }
  },
  "nbformat": 4,
  "nbformat_minor": 0
}
