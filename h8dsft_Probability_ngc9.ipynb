{
 "cells": [
  {
   "cell_type": "code",
   "execution_count": 1,
   "metadata": {},
   "outputs": [],
   "source": [
    "%matplotlib inline\n",
    "import random"
   ]
  },
  {
   "cell_type": "code",
   "execution_count": 2,
   "metadata": {},
   "outputs": [],
   "source": [
    "heads_tails =[0,0]"
   ]
  },
  {
   "cell_type": "code",
   "execution_count": 5,
   "metadata": {},
   "outputs": [
    {
     "name": "stdout",
     "output_type": "stream",
     "text": [
      "24.97%\n"
     ]
    }
   ],
   "source": [
    "import random\n",
    "\n",
    "# Count the number of 2xHeads results\n",
    "h2 = 0\n",
    "\n",
    "# Create a list of all results\n",
    "results = []\n",
    "\n",
    "# loop through 50000 trials\n",
    "trials = 50000\n",
    "trial = 0\n",
    "while trial < trials:\n",
    "    trial = trial + 1\n",
    "    # Flip two coins\n",
    "    result = ['H' if random.randint(0,1) == 0 else 'T',\n",
    "              'H' if random.randint(0,1) == 0 else 'T']\n",
    "    results.append(result)\n",
    "    # If it's two heads, add it to the count\n",
    "    h2 = h2 + int(result == ['H','H'])\n",
    "    \n",
    "# What proportion of trials produced 2x heads\n",
    "print (\"%.2f%%\" % ((h2/trials)*100))"
   ]
  },
  {
   "cell_type": "code",
   "execution_count": null,
   "metadata": {},
   "outputs": [],
   "source": []
  }
 ],
 "metadata": {
  "kernelspec": {
   "display_name": "base",
   "language": "python",
   "name": "python3"
  },
  "language_info": {
   "codemirror_mode": {
    "name": "ipython",
    "version": 3
   },
   "file_extension": ".py",
   "mimetype": "text/x-python",
   "name": "python",
   "nbconvert_exporter": "python",
   "pygments_lexer": "ipython3",
   "version": "3.9.13"
  },
  "orig_nbformat": 4,
  "vscode": {
   "interpreter": {
    "hash": "40d3a090f54c6569ab1632332b64b2c03c39dcf918b08424e98f38b5ae0af88f"
   }
  }
 },
 "nbformat": 4,
 "nbformat_minor": 2
}
